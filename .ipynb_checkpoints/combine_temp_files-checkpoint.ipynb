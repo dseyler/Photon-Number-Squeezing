{
 "cells": [
  {
   "cell_type": "code",
   "execution_count": 11,
   "id": "75552b5f",
   "metadata": {},
   "outputs": [
    {
     "name": "stdout",
     "output_type": "stream",
     "text": [
      "temp_files/Test_photons_fluc_1.csv\n",
      "data size(3, 2)\n",
      "total size(3, 2)\n",
      "temp_files/Test_photons_fluc_2.csv\n",
      "data size(3, 2)\n",
      "total size(6, 2)\n",
      "temp_files/Test_photons_fluc_3.csv\n",
      "data size(2, 2)\n",
      "total size(8, 2)\n",
      "temp_files/Test_photons_in_1.csv\n",
      "temp_files/Test_photons_in_2.csv\n",
      "temp_files/Test_photons_in_3.csv\n",
      "temp_files/Test_photons_out_1.csv\n",
      "data size(3, 2)\n",
      "total size(8, 2)\n",
      "temp_files/Test_photons_out_2.csv\n",
      "data size(3, 2)\n",
      "total size(8, 2)\n",
      "temp_files/Test_photons_out_3.csv\n",
      "data size(2, 2)\n",
      "total size(8, 2)\n",
      "[102000.0; 6.8952e7; 2.6530200000000006e8; 5.89152e8; 1.040502e9; 1.6193520000000002e9; 2.325702000000001e9; 3.159552e9]\n",
      "[65280.00019794537 36719.999802056635; 4.419233457475631e7 2.475966542524507e7; 1.736976602650071e8 9.16043397349987e7; 4.249519626431661e8 1.642000373568457e8; 9.279053568826699e8 1.1259664311734718e8; 1.1971551187636466e9 4.221968812363791e8; 1.7498990092125835e9 5.75802990787451e8; 2.7342539125927076e9 4.252980874073448e8]\n",
      "ComplexF64[65279.74753461531 + 0.0im 36720.1473641084 - 9.094947017729282e-13im; 4.433116602969126e7 + 9.313225746154785e-10im 2.6439814955557834e7 + 0.0im; 1.883696923176602e8 - 1.4901161193847656e-8im 1.9231803075904572e8 + 3.725290298461914e-9im; 6.390400229171338e8 + 1.1920928955078125e-7im 1.1324349509571407e9 - 2.9802322387695312e-8im; 1.7968547956493149e9 + 2.86102294921875e-6im 1.1190118819382324e9 + 0.0im; 1.0618058098977051e9 - 3.0517578125e-5im 2.416105901329621e11 - 7.62939453125e-6im; 4.3605434551361084e8 + 4.57763671875e-5im 2.9880240344223145e11 - 7.62939453125e-6im; 4.939574001121368e9 - 3.0517578125e-5im 3.8466662372551796e10 + 9.5367431640625e-7im]\n"
     ]
    }
   ],
   "source": [
    "using CSV\n",
    "using DelimitedFiles\n",
    "include(\"pulsed_squeezed_fiber_lasers.jl\")\n",
    "\n",
    "\n",
    "photons_in = zeros(0,1)\n",
    "photons_out = zeros(0,2)\n",
    "photons_fluc = zeros(0,2)\n",
    "\n",
    "temp_files = readdir(\"temp_files\", join=true)\n",
    "\n",
    "for file in temp_files\n",
    "    println(file)\n",
    "    if occursin(\"photons_in\", file)\n",
    "        data = readdlm(file, ',', Float64)\n",
    "        photons_in = vcat(photons_in, data)\n",
    "    elseif occursin(\"photons_out\", file)\n",
    "        data = readdlm(file, ',', Float64)\n",
    "        println(\"data size\", size(data)) \n",
    "        photons_out = vcat(photons_out, data)\n",
    "        println(\"total size\", size(photons_fluc))\n",
    "    elseif occursin(\"photons_fluc\", file)\n",
    "        data = readdlm(file, ',', Complex{Float64})\n",
    "        println(\"data size\", size(data))       \n",
    "        photons_fluc = vcat(photons_fluc, data)\n",
    "        println(\"total size\", size(photons_fluc))\n",
    "    end\n",
    "end\n",
    "\n",
    "\n",
    "println(photons_in)\n",
    "println(photons_out)\n",
    "println(photons_fluc)\n",
    "\n",
    "#file_1 = readdlm(\"temp_files/Test_photons_in_1.csv\", ',', Float64)\n",
    "#file_2 = readdlm(\"temp_files/Test_photons_in_2.csv\", ',', Float64)\n",
    "#file_3 = readdlm(\"temp_files/Test_photons_in_3.csv\", ',', Float64)"
   ]
  },
  {
   "cell_type": "code",
   "execution_count": 35,
   "id": "43f0cf41",
   "metadata": {},
   "outputs": [
    {
     "name": "stdout",
     "output_type": "stream",
     "text": [
      "[[1.0 2.0 3.0], #undef, #undef, #undef, #undef]"
     ]
    }
   ],
   "source": [
    "test_array = Array{Matrix{Float64}}(undef, 5)\n",
    "test_array[1] = [1. 2. 3.]\n",
    "print(test_array)"
   ]
  },
  {
   "cell_type": "code",
   "execution_count": 39,
   "id": "2aa5a0a2",
   "metadata": {},
   "outputs": [
    {
     "name": "stdout",
     "output_type": "stream",
     "text": [
      "[3, 3, 2]\n"
     ]
    }
   ],
   "source": [
    "power_list = [1,2,3,4,5,6,7,8]\n",
    "nprocs = 3\n",
    "split_power_lists = approx_split(power_list, nprocs)\n",
    "lists_lengths = Array{Int64}(undef, nprocs)\n",
    "for i in 1:nprocs\n",
    "    lists_lengths[i] = length(split_power_lists[i])\n",
    "end\n",
    "println(lists_lengths)"
   ]
  }
 ],
 "metadata": {
  "kernelspec": {
   "display_name": "Julia 1.6.1",
   "language": "julia",
   "name": "julia-1.6.1"
  },
  "language_info": {
   "file_extension": ".jl",
   "mimetype": "application/julia",
   "name": "julia",
   "version": "1.6.1"
  },
  "latex_envs": {
   "LaTeX_envs_menu_present": true,
   "autoclose": false,
   "autocomplete": true,
   "bibliofile": "biblio.bib",
   "cite_by": "apalike",
   "current_citInitial": 1,
   "eqLabelWithNumbers": true,
   "eqNumInitial": 1,
   "hotkeys": {
    "equation": "Ctrl-E",
    "itemize": "Ctrl-I"
   },
   "labels_anchors": false,
   "latex_user_defs": false,
   "report_style_numbering": false,
   "user_envs_cfg": false
  },
  "toc": {
   "base_numbering": 1,
   "nav_menu": {},
   "number_sections": true,
   "sideBar": true,
   "skip_h1_title": false,
   "title_cell": "Table of Contents",
   "title_sidebar": "Contents",
   "toc_cell": false,
   "toc_position": {},
   "toc_section_display": true,
   "toc_window_display": false
  }
 },
 "nbformat": 4,
 "nbformat_minor": 5
}
